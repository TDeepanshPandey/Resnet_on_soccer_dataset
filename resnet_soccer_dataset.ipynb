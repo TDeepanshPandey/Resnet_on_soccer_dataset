{
 "cells": [
  {
   "cell_type": "markdown",
   "metadata": {},
   "source": [
    "### Team members:\n",
    "\n",
    "* Swaroop Bhandary K\n",
    "* Deepamsh Pandey"
   ]
  },
  {
   "cell_type": "markdown",
   "metadata": {},
   "source": [
    "#### Reading the video files at the rate of 2 frame per second and saving it in the specific directory"
   ]
  },
  {
   "cell_type": "code",
   "execution_count": null,
   "metadata": {},
   "outputs": [],
   "source": [
    "import cv2\n",
    "from os import listdir\n",
    "\n",
    "video_dir = 'videos/'\n",
    "video_files = listdir(video_dir)\n",
    "count_copedo = 0\n",
    "count_dynaped = 0\n",
    "count_igus = 0\n",
    "\n",
    "# completed 0, 1, 2, 3, 4, 5, 7, 8, 9, 12, 16\n",
    "# 1, 5, 8, 12, 16\n",
    "\n",
    "for video_id, video in enumerate(video_files):\n",
    "    print(\"##\"*40)\n",
    "    print(\"working on {0}\".format(video))    \n",
    "    \n",
    "    filepath = video_dir + video\n",
    "    cap = cv2.VideoCapture(filepath)\n",
    "    \n",
    "    start_frame = 0\n",
    "    \n",
    "    frame_rate = int(cap.get(cv2.CAP_PROP_FPS)/2)\n",
    "    n_frames = int(cap.get(cv2.CAP_PROP_FRAME_COUNT))\n",
    "\n",
    "    for idx in range(start_frame, n_frames, frame_rate):\n",
    "        cap.set(cv2.CAP_PROP_POS_FRAMES, idx)\n",
    "        ret, img = cap.read()\n",
    "        \n",
    "        cv2.imshow('display', img)\n",
    "        cv2.waitKey(50)\n",
    "        \n",
    "        img = cv2.resize(img, (256, 256))\n",
    "        num = int(input(\"enter 1 for copedo, 2 for dynaped and 3 for igus: \"))\n",
    "\n",
    "        if num == 1:\n",
    "            print(\"saved in 1\")\n",
    "            cv2.imwrite(\"images/copedo/frame_{}.jpg\".format(count_copedo), img)\n",
    "            count_copedo += 1\n",
    "        elif num == 2:\n",
    "            print(\"saved in 2\")\n",
    "            cv2.imwrite(\"images/dynaped/frame_{}.jpg\".format(count_dynaped), img)\n",
    "            count_dynaped += 1\n",
    "        elif num == 3:\n",
    "            print(\"saved in 3\")\n",
    "            cv2.imwrite(\"images/igus/frame_{}.jpg\".format(count_igus), img)\n",
    "            count_igus += 1\n",
    "        elif num == 4:\n",
    "            pass\n",
    "        else:\n",
    "            break\n",
    "    cap.release()\n",
    "cv2.destroyAllWindows()"
   ]
  },
  {
   "cell_type": "markdown",
   "metadata": {},
   "source": [
    "#### Moving 30% of the data to val folder"
   ]
  },
  {
   "cell_type": "code",
   "execution_count": null,
   "metadata": {},
   "outputs": [],
   "source": [
    "import numpy as np\n",
    "import shutil\n",
    "\n",
    "copedo = list(set(np.random.randint(0, 235, 71)))\n",
    "\n",
    "for file_id in copedo:\n",
    "    source1 = \"/home/swaroop/Documents/uni_bonn/computer_vision/ss19/session_5/images/train/copedo/frame_{}.jpg\".format(file_id)\n",
    "    dest1 = \"/home/swaroop/Documents/uni_bonn/computer_vision/ss19/session_5/images/val/copedo/frame_{}.jpg\".format(file_id)\n",
    "    \n",
    "    source2 = \"/home/swaroop/Documents/uni_bonn/computer_vision/ss19/session_5/images/train/dynaped/frame_{}.jpg\".format(file_id)\n",
    "    dest2 = \"/home/swaroop/Documents/uni_bonn/computer_vision/ss19/session_5/images/val/dynaped/frame_{}.jpg\".format(file_id)\n",
    "    \n",
    "    source3 = \"/home/swaroop/Documents/uni_bonn/computer_vision/ss19/session_5/images/train/igus/frame_{}.jpg\".format(file_id)\n",
    "    dest3 = \"/home/swaroop/Documents/uni_bonn/computer_vision/ss19/session_5/images/val/igus/frame_{}.jpg\".format(file_id)\n",
    "    \n",
    "    shutil.move(source1, dest1)\n",
    "    shutil.move(source2, dest2)\n",
    "    shutil.move(source3, dest3)"
   ]
  },
  {
   "cell_type": "code",
   "execution_count": 13,
   "metadata": {},
   "outputs": [],
   "source": [
    "import torch\n",
    "import torchvision\n",
    "import os\n",
    "import time\n",
    "import copy\n",
    "import numpy as np\n",
    "\n",
    "from torch.optim import SGD\n",
    "from torch.optim import lr_scheduler\n",
    "from torch.utils.data import DataLoader\n",
    "from torchvision import transforms, datasets\n",
    "from torchvision.models import resnet18\n",
    "from matplotlib import pyplot as plt\n",
    "\n",
    "\n",
    "torch.random.manual_seed(1)\n",
    "\n",
    "cuda = torch.cuda.is_available()\n",
    "\n",
    "if cuda:\n",
    "    torch.cuda.random.manual_seed(1)\n",
    "    aDev = torch.device(\"cuda\")\n",
    "else:\n",
    "    aDev = torch.device(\"cpu\")"
   ]
  },
  {
   "cell_type": "code",
   "execution_count": 2,
   "metadata": {},
   "outputs": [
    {
     "name": "stdout",
     "output_type": "stream",
     "text": [
      "cuda\n"
     ]
    }
   ],
   "source": [
    "print(aDev)"
   ]
  },
  {
   "cell_type": "code",
   "execution_count": 3,
   "metadata": {},
   "outputs": [],
   "source": [
    "data_transforms = {\n",
    "    'train': transforms.Compose([\n",
    "        transforms.RandomResizedCrop(224),\n",
    "        transforms.RandomHorizontalFlip(),\n",
    "        transforms.ToTensor(),\n",
    "        transforms.Normalize([0.3933, 0.4619, 0.3556], [0.2135, 0.2257, 0.2165])\n",
    "    ]),\n",
    "    'val': transforms.Compose([\n",
    "        transforms.CenterCrop(224),\n",
    "        transforms.ToTensor(),\n",
    "        transforms.Normalize([0.3933, 0.4619, 0.3556], [0.2135, 0.2257, 0.2165])\n",
    "    ])\n",
    "    \n",
    "}\n",
    "\n",
    "data_dir = 'images'\n",
    "\n",
    "image_datasets = {x: datasets.ImageFolder(os.path.join(data_dir, x),\n",
    "                                          data_transforms[x]) for x in ['train', 'val']}\n",
    "\n",
    "dataloaders = {x: DataLoader(image_datasets[x], batch_size=64,\n",
    "                            shuffle=True, num_workers=4) for x in ['train', 'val']}\n",
    "\n",
    "dataset_sizes = {x: len(image_datasets[x]) for x in ['train', 'val']}\n",
    "class_names = image_datasets['train'].classes"
   ]
  },
  {
   "cell_type": "code",
   "execution_count": 4,
   "metadata": {},
   "outputs": [],
   "source": [
    "def train_model(model, criterion, optimizer, scheduler, num_epochs=25):\n",
    "    since = time.time()\n",
    "\n",
    "    best_model_wts = copy.deepcopy(model.state_dict())\n",
    "    best_acc = 0.0\n",
    "\n",
    "    for epoch in range(num_epochs):\n",
    "        print('Epoch {}/{}'.format(epoch, num_epochs - 1))\n",
    "        print('-' * 10)\n",
    "\n",
    "        # Each epoch has a training and validation phase\n",
    "        for phase in ['train', 'val']:\n",
    "            if phase == 'train':\n",
    "                scheduler.step()\n",
    "                model.train()  # Set model to training mode\n",
    "            else:\n",
    "                model.eval()   # Set model to evaluate mode\n",
    "\n",
    "            running_loss = 0.0\n",
    "            running_corrects = 0\n",
    "\n",
    "            # Iterate over data.\n",
    "            for inputs, labels in dataloaders[phase]:\n",
    "                inputs = inputs.to(aDev)\n",
    "                labels = labels.to(aDev)\n",
    "\n",
    "                # zero the parameter gradients\n",
    "                optimizer.zero_grad()\n",
    "\n",
    "                # forward\n",
    "                # track history if only in train\n",
    "                with torch.set_grad_enabled(phase == 'train'):\n",
    "                    outputs = model(inputs)\n",
    "                    _, preds = torch.max(outputs, 1)\n",
    "                    loss = criterion(outputs, labels)\n",
    "\n",
    "                    # backward + optimize only if in training phase\n",
    "                    if phase == 'train':\n",
    "                        loss.backward()\n",
    "                        optimizer.step()\n",
    "\n",
    "                # statistics\n",
    "                running_loss += loss.item() * inputs.size(0)\n",
    "                running_corrects += torch.sum(preds == labels.data)\n",
    "\n",
    "            epoch_loss = running_loss / dataset_sizes[phase]\n",
    "            epoch_acc = running_corrects.double() / dataset_sizes[phase]\n",
    "\n",
    "            print('{} Loss: {:.4f} Acc: {:.4f}'.format(\n",
    "                phase, epoch_loss, epoch_acc))\n",
    "\n",
    "            # deep copy the model\n",
    "            if phase == 'val' and epoch_acc > best_acc:\n",
    "                best_acc = epoch_acc\n",
    "                best_model_wts = copy.deepcopy(model.state_dict())\n",
    "\n",
    "        print()\n",
    "\n",
    "    time_elapsed = time.time() - since\n",
    "    print('Training complete in {:.0f}m {:.0f}s'.format(\n",
    "        time_elapsed // 60, time_elapsed % 60))\n",
    "    print('Best val Acc: {:4f}'.format(best_acc))\n",
    "\n",
    "    # load best model weights\n",
    "    model.load_state_dict(best_model_wts)\n",
    "    return model"
   ]
  },
  {
   "cell_type": "code",
   "execution_count": 11,
   "metadata": {},
   "outputs": [],
   "source": [
    "def imshow(inp, title=None):\n",
    "    \"\"\"Imshow for Tensor.\"\"\"\n",
    "    inp = inp.numpy().transpose((1, 2, 0))\n",
    "    mean = np.array([0.485, 0.456, 0.406])\n",
    "    std = np.array([0.229, 0.224, 0.225])\n",
    "    inp = std * inp + mean\n",
    "    inp = np.clip(inp, 0, 1)\n",
    "    plt.imshow(inp)\n",
    "    if title is not None:\n",
    "        plt.title(title)\n",
    "    plt.pause(0.001)  # pause a bit so that plots are updated\n",
    "\n",
    "def visualize_model(model, num_images=6):\n",
    "    images_so_far = 0\n",
    "    fig = plt.figure()\n",
    "\n",
    "    for i, data in enumerate(dataloaders['val']):\n",
    "        inputs, labels = data\n",
    "        \n",
    "        inputs, labels = inputs.to(aDev), labels.to(aDev)\n",
    "\n",
    "        outputs = model(inputs)\n",
    "        _, preds = torch.max(outputs.data, 1)\n",
    "\n",
    "        for j in range(inputs.size()[0]):\n",
    "            images_so_far += 1\n",
    "            ax = plt.subplot(num_images//2, 2, images_so_far)\n",
    "            ax.axis('off')\n",
    "            ax.set_title('predicted: {}'.format(class_names[preds[j]]))\n",
    "            imshow(inputs.cpu()[j])\n",
    "\n",
    "            if images_so_far == num_images:\n",
    "                return"
   ]
  },
  {
   "cell_type": "code",
   "execution_count": 6,
   "metadata": {},
   "outputs": [],
   "source": [
    "resnet = resnet18(pretrained=True)\n",
    "\n",
    "for param in resnet.parameters():\n",
    "    param.requires_grad = False\n",
    "    \n",
    "num_flts = resnet.fc.in_features\n",
    "resnet.fc = torch.nn.Linear(num_flts, 10)\n",
    "\n",
    "resnet = resnet.to(aDev)\n",
    "criterion = torch.nn.CrossEntropyLoss()\n",
    "optimizer_conv = SGD(resnet.fc.parameters(), lr=0.001, momentum=0.9)\n",
    "\n",
    "# Decay LR by a factor of 0.1 every 7 epochs\n",
    "exp_lr_scheduler = lr_scheduler.StepLR(optimizer_conv, step_size=7, gamma=0.1)"
   ]
  },
  {
   "cell_type": "code",
   "execution_count": 7,
   "metadata": {},
   "outputs": [
    {
     "name": "stdout",
     "output_type": "stream",
     "text": [
      "Epoch 0/24\n",
      "----------\n",
      "train Loss: 1.8065 Acc: 0.1860\n",
      "val Loss: 1.1710 Acc: 0.3385\n",
      "\n",
      "Epoch 1/24\n",
      "----------\n",
      "train Loss: 1.0479 Acc: 0.4748\n",
      "val Loss: 0.8599 Acc: 0.5156\n",
      "\n",
      "Epoch 2/24\n",
      "----------\n",
      "train Loss: 0.7845 Acc: 0.6415\n",
      "val Loss: 0.5040 Acc: 0.9323\n",
      "\n",
      "Epoch 3/24\n",
      "----------\n",
      "train Loss: 0.5341 Acc: 0.8566\n",
      "val Loss: 0.3997 Acc: 0.9062\n",
      "\n",
      "Epoch 4/24\n",
      "----------\n",
      "train Loss: 0.4392 Acc: 0.8973\n",
      "val Loss: 0.3121 Acc: 0.9531\n",
      "\n",
      "Epoch 5/24\n",
      "----------\n",
      "train Loss: 0.3652 Acc: 0.9205\n",
      "val Loss: 0.2569 Acc: 0.9740\n",
      "\n",
      "Epoch 6/24\n",
      "----------\n",
      "train Loss: 0.3425 Acc: 0.9225\n",
      "val Loss: 0.2526 Acc: 0.9740\n",
      "\n",
      "Epoch 7/24\n",
      "----------\n",
      "train Loss: 0.3350 Acc: 0.9302\n",
      "val Loss: 0.2597 Acc: 0.9583\n",
      "\n",
      "Epoch 8/24\n",
      "----------\n",
      "train Loss: 0.3312 Acc: 0.9244\n",
      "val Loss: 0.2521 Acc: 0.9583\n",
      "\n",
      "Epoch 9/24\n",
      "----------\n",
      "train Loss: 0.3363 Acc: 0.9128\n",
      "val Loss: 0.2451 Acc: 0.9792\n",
      "\n",
      "Epoch 10/24\n",
      "----------\n",
      "train Loss: 0.3481 Acc: 0.9225\n",
      "val Loss: 0.2438 Acc: 0.9688\n",
      "\n",
      "Epoch 11/24\n",
      "----------\n",
      "train Loss: 0.3062 Acc: 0.9477\n",
      "val Loss: 0.2406 Acc: 0.9792\n",
      "\n",
      "Epoch 12/24\n",
      "----------\n",
      "train Loss: 0.3211 Acc: 0.9322\n",
      "val Loss: 0.2412 Acc: 0.9740\n",
      "\n",
      "Epoch 13/24\n",
      "----------\n",
      "train Loss: 0.3103 Acc: 0.9264\n",
      "val Loss: 0.2474 Acc: 0.9688\n",
      "\n",
      "Epoch 14/24\n",
      "----------\n",
      "train Loss: 0.3310 Acc: 0.9244\n",
      "val Loss: 0.2490 Acc: 0.9635\n",
      "\n",
      "Epoch 15/24\n",
      "----------\n",
      "train Loss: 0.3164 Acc: 0.9302\n",
      "val Loss: 0.2416 Acc: 0.9688\n",
      "\n",
      "Epoch 16/24\n",
      "----------\n",
      "train Loss: 0.3161 Acc: 0.9283\n",
      "val Loss: 0.2373 Acc: 0.9688\n",
      "\n",
      "Epoch 17/24\n",
      "----------\n",
      "train Loss: 0.3285 Acc: 0.9147\n",
      "val Loss: 0.2419 Acc: 0.9688\n",
      "\n",
      "Epoch 18/24\n",
      "----------\n",
      "train Loss: 0.3181 Acc: 0.9225\n",
      "val Loss: 0.2448 Acc: 0.9688\n",
      "\n",
      "Epoch 19/24\n",
      "----------\n",
      "train Loss: 0.3128 Acc: 0.9360\n",
      "val Loss: 0.2352 Acc: 0.9740\n",
      "\n",
      "Epoch 20/24\n",
      "----------\n",
      "train Loss: 0.3347 Acc: 0.9205\n",
      "val Loss: 0.2455 Acc: 0.9688\n",
      "\n",
      "Epoch 21/24\n",
      "----------\n",
      "train Loss: 0.3151 Acc: 0.9167\n",
      "val Loss: 0.2330 Acc: 0.9740\n",
      "\n",
      "Epoch 22/24\n",
      "----------\n",
      "train Loss: 0.3013 Acc: 0.9477\n",
      "val Loss: 0.2401 Acc: 0.9688\n",
      "\n",
      "Epoch 23/24\n",
      "----------\n",
      "train Loss: 0.3304 Acc: 0.9283\n",
      "val Loss: 0.2408 Acc: 0.9792\n",
      "\n",
      "Epoch 24/24\n",
      "----------\n",
      "train Loss: 0.3085 Acc: 0.9438\n",
      "val Loss: 0.2406 Acc: 0.9792\n",
      "\n",
      "Training complete in 7m 7s\n",
      "Best val Acc: 0.979167\n"
     ]
    }
   ],
   "source": [
    "model_conv = train_model(resnet, criterion, optimizer_conv,\n",
    "                         exp_lr_scheduler, num_epochs=25)"
   ]
  },
  {
   "cell_type": "code",
   "execution_count": 14,
   "metadata": {},
   "outputs": [
    {
     "data": {
      "image/png": "[encoded data removed]",
      "text/plain": [
       "<Figure size 432x288 with 1 Axes>"
      ]
     },
     "metadata": {
      "needs_background": "light"
     },
     "output_type": "display_data"
    },
    {
     "data": {
      "image/png": "[encoded data removed]",
      "text/plain": [
       "<Figure size 432x288 with 1 Axes>"
      ]
     },
     "metadata": {
      "needs_background": "light"
     },
     "output_type": "display_data"
    },
    {
     "data": {
      "image/png": "[encoded data removed]",
      "text/plain": [
       "<Figure size 432x288 with 1 Axes>"
      ]
     },
     "metadata": {
      "needs_background": "light"
     },
     "output_type": "display_data"
    },
    {
     "data": {
      "image/png": "[encoded data removed]",
      "text/plain": [
       "<Figure size 432x288 with 1 Axes>"
      ]
     },
     "metadata": {
      "needs_background": "light"
     },
     "output_type": "display_data"
    },
    {
     "data": {
      "image/png": "[encoded data removed]",
      "text/plain": [
       "<Figure size 432x288 with 1 Axes>"
      ]
     },
     "metadata": {
      "needs_background": "light"
     },
     "output_type": "display_data"
    },
    {
     "data": {
      "image/png": "[encoded data removed]",
      "text/plain": [
       "<Figure size 432x288 with 1 Axes>"
      ]
     },
     "metadata": {
      "needs_background": "light"
     },
     "output_type": "display_data"
    }
   ],
   "source": [
    "visualize_model(model_conv)"
   ]
  },
  {
   "cell_type": "code",
   "execution_count": 16,
   "metadata": {},
   "outputs": [],
   "source": [
    "torch.save(model_conv.state_dict(), \"resnet_rob_model.th\")"
   ]
  }
 ],
 "metadata": {
  "kernelspec": {
   "display_name": "Python 3",
   "language": "python",
   "name": "python3"
  },
  "language_info": {
   "codemirror_mode": {
    "name": "ipython",
    "version": 3
   },
   "file_extension": ".py",
   "mimetype": "text/x-python",
   "name": "python",
   "nbconvert_exporter": "python",
   "pygments_lexer": "ipython3",
   "version": "3.6.7"
  }
 },
 "nbformat": 4,
 "nbformat_minor": 2
}
